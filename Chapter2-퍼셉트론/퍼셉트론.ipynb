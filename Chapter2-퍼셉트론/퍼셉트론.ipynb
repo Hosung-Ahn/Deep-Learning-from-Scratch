{
 "cells": [
  {
   "cell_type": "markdown",
   "metadata": {},
   "source": [
    "# 퍼셉트론이란\n",
    "## 다수의 신호를 입력으로 받아 하나의 신호를 출력한다.\n",
    "---\n",
    "\n",
    "### 입력 신호가 **뉴런**에 보내질 떄는 각각 고유한 **가중치**가 곱해진다.\n",
    "### 뉴런에서 보내온 신호의 총합이 정해진 한계를 넘어설 때만 1을 출력한다.\n",
    "### 그 한계를 **임계값**이라 한다.\n",
    "<br>\n",
    "\n",
    "### **학습**은 적절한 매개변수 값을 정하는 작업이다.\n"
   ]
  },
  {
   "cell_type": "markdown",
   "metadata": {},
   "source": [
    "## 논리게이트 설계\n",
    "----\n",
    "### 간단한 퍼셉트론"
   ]
  },
  {
   "cell_type": "code",
   "execution_count": 4,
   "metadata": {},
   "outputs": [
    {
     "name": "stdout",
     "output_type": "stream",
     "text": [
      "AND(0,0) = 0\n",
      "NAND(0,0) = 1\n",
      "OR(0,0) = 0\n",
      "\n",
      "AND(0,1) = 0\n",
      "NAND(0,1) = 1\n",
      "OR(0,1) = 1\n",
      "\n",
      "AND(1,0) = 0\n",
      "NAND(1,0) = 1\n",
      "OR(1,0) = 1\n",
      "\n",
      "AND(1,1) = 1\n",
      "NAND(1,1) = 0\n",
      "OR(1,1) = 1\n",
      "\n"
     ]
    }
   ],
   "source": [
    "import numpy as np\n",
    "\n",
    "# AND\n",
    "def AND(x1, x2) :\n",
    "    x = np.array([x1,x2])\n",
    "    w = np.array([0.5, 0.5])\n",
    "    b = -0.7\n",
    "    tmp = np.sum(w*x) + b\n",
    "    if tmp <= 0 :\n",
    "        return 0\n",
    "    else :\n",
    "        return 1\n",
    "    \n",
    "# NAND\n",
    "def NAND(x1, x2) :\n",
    "    x = np.array([x1,x2])\n",
    "    w = np.array([-0.5, -0.5])\n",
    "    b = 0.7\n",
    "    tmp = np.sum(x*w) + b\n",
    "    if tmp <= 0 :\n",
    "        return 0\n",
    "    else : \n",
    "        return 1\n",
    "    \n",
    "def OR(x1, x2) :\n",
    "    x = np.array([x1,x2])\n",
    "    w = np.array([0.5,0.5])\n",
    "    b = -0.2\n",
    "    tmp = np.sum(x*w) + b\n",
    "    if tmp <= 0 :\n",
    "        return 0\n",
    "    else :\n",
    "        return 1\n",
    "    \n",
    "for x1 in range(2) :\n",
    "    for x2 in range(2) :\n",
    "        print(f\"AND({x1},{x2}) = {AND(x1,x2)}\")\n",
    "        print(f\"NAND({x1},{x2}) = {NAND(x1,x2)}\")\n",
    "        print(f\"OR({x1},{x2}) = {OR(x1,x2)}\")\n",
    "        print()"
   ]
  },
  {
   "cell_type": "markdown",
   "metadata": {},
   "source": [
    "### 다층 퍼셉트론(XOR)"
   ]
  },
  {
   "cell_type": "code",
   "execution_count": 5,
   "metadata": {},
   "outputs": [
    {
     "name": "stdout",
     "output_type": "stream",
     "text": [
      "XOR(0,0) = 0\n",
      "XOR(0,1) = 1\n",
      "XOR(1,0) = 1\n",
      "XOR(1,1) = 0\n"
     ]
    }
   ],
   "source": [
    "def XOR(x1, x2) :\n",
    "    s1 = NAND(x1,x2)\n",
    "    s2 = OR(x1,x2)\n",
    "    return AND(s1,s2)\n",
    "\n",
    "for x1 in range(2) :\n",
    "    for x2 in range(2) :\n",
    "        print(f\"XOR({x1},{x2}) = {XOR(x1,x2)}\")"
   ]
  }
 ],
 "metadata": {
  "kernelspec": {
   "display_name": "Python 3.9.12 ('tensorflow')",
   "language": "python",
   "name": "python3"
  },
  "language_info": {
   "codemirror_mode": {
    "name": "ipython",
    "version": 3
   },
   "file_extension": ".py",
   "mimetype": "text/x-python",
   "name": "python",
   "nbconvert_exporter": "python",
   "pygments_lexer": "ipython3",
   "version": "3.9.12"
  },
  "orig_nbformat": 4,
  "vscode": {
   "interpreter": {
    "hash": "6fdcef1ab88bd2769e5cd04c8613bf5b65f3e7486ea0bf4ec96200ddb16cbdbb"
   }
  }
 },
 "nbformat": 4,
 "nbformat_minor": 2
}
